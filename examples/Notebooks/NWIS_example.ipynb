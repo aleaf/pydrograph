{
 "cells": [
  {
   "cell_type": "code",
   "execution_count": 2,
   "metadata": {},
   "outputs": [],
   "source": [
    "import numpy as np\n",
    "import pandas as pd\n",
    "import matplotlib.pyplot as plt\n",
    "from matplotlib.backends.backend_pdf import PdfPages\n",
    "import fiona\n",
    "from shapely.geometry import Point, shape\n",
    "from gisutils import df2shp, project\n",
    "from pydrograph import Nwis"
   ]
  },
  {
   "cell_type": "markdown",
   "metadata": {},
   "source": [
    "### instantiate an NWIS object using a polygon shapefile of the study area\n",
    "* `bbox.shp` is in UTM 83 zone 15 N\n",
    "* pydrograph will automatically reproject the extent to GCS NAD83 by default (EPSG: 4269), which is the typical GCS used by NWIS. Alternatively, the NAD27 datum can be used (EPSG: 4267) by specifying `datum=NAD27` to the `NWIS()` constructor."
   ]
  },
  {
   "cell_type": "code",
   "execution_count": 3,
   "metadata": {},
   "outputs": [
    {
     "name": "stdout",
     "output_type": "stream",
     "text": [
      "reading extent from ../data/bbox.shp...\n",
      "reprojecting extent from\n",
      "EPSG:26915\n",
      "to\n",
      "EPSG:4269\n"
     ]
    }
   ],
   "source": [
    "nwis = Nwis(extent='../data/bbox.shp')"
   ]
  },
  {
   "cell_type": "markdown",
   "metadata": {},
   "source": [
    "### field measurements inventory table\n",
    "* fetches inventory tables of all misc field measurements within the polygon"
   ]
  },
  {
   "cell_type": "code",
   "execution_count": 4,
   "metadata": {},
   "outputs": [
    {
     "name": "stdout",
     "output_type": "stream",
     "text": [
      "getting site inventory for field_measurements...\n",
      "url: http://nwis.waterdata.usgs.gov/usa/nwis/measurements?nw_longitude_va=-92.700&nw_latitude_va=46.800&se_longitude_va=-92.600&se_latitude_va=46.700&coordinate_format=decimal_degrees&group_key=NONE&format=sitefile_output&sitefile_output_format=rdb&column_name=site_no&column_name=station_nm&column_name=site_tp_cd&column_name=dec_lat_va&column_name=dec_long_va&column_name=coord_meth_cd&column_name=coord_acy_cd&column_name=coord_datum_cd&column_name=dec_coord_datum_cd&column_name=district_cd&column_name=state_cd&column_name=county_cd&column_name=country_cd&column_name=land_net_ds&column_name=map_nm&column_name=map_scale_fc&column_name=alt_va&column_name=alt_meth_cd&column_name=alt_acy_va&column_name=alt_datum_cd&column_name=huc_cd&column_name=basin_cd&column_name=topo_cd&column_name=inventory_dt&column_name=drain_area_va&column_name=contrib_drain_area_va&column_name=tz_cd&column_name=local_time_fg&column_name=reliability_cd&column_name=project_no&column_name=rt_bol&column_name=peak_begin_date&column_name=peak_end_date&column_name=peak_count_nu&column_name=qw_begin_date&column_name=qw_end_date&column_name=qw_count_nu&column_name=sv_begin_date&column_name=sv_end_date&column_name=sv_count_nu&date_format=YYYY-MM-DD&rdb_compression=file&list_of_search_criteria=lat_long_bounding_box\n",
      "reading data with pandas...\n",
      "finished in 2.48s\n",
      "\n",
      "culling 1 sites to those within extent...\n",
      "finished inventory in 2.50s\n",
      "\n"
     ]
    }
   ],
   "source": [
    "field_sites = nwis.get_siteinfo('field_measurements')"
   ]
  },
  {
   "cell_type": "markdown",
   "metadata": {},
   "source": [
    "### daily values sites inventory table"
   ]
  },
  {
   "cell_type": "code",
   "execution_count": 5,
   "metadata": {},
   "outputs": [
    {
     "name": "stdout",
     "output_type": "stream",
     "text": [
      "getting site inventory for daily_values...\n",
      "url: http://nwis.waterdata.usgs.gov/usa/nwis/dv?referred_module=sw&site_tp_cd=ST&nw_longitude_va=-92.700&nw_latitude_va=46.800&se_longitude_va=-92.600&se_latitude_va=46.700&coordinate_format=decimal_degrees&group_key=NONE&format=sitefile_output&sitefile_output_format=rdb&column_name=site_no&column_name=station_nm&column_name=site_tp_cd&column_name=dec_lat_va&column_name=dec_long_va&column_name=coord_meth_cd&column_name=coord_acy_cd&column_name=coord_datum_cd&column_name=dec_coord_datum_cd&column_name=district_cd&column_name=state_cd&column_name=county_cd&column_name=country_cd&column_name=land_net_ds&column_name=map_nm&column_name=map_scale_fc&column_name=alt_va&column_name=alt_meth_cd&column_name=alt_acy_va&column_name=alt_datum_cd&column_name=huc_cd&column_name=basin_cd&column_name=topo_cd&column_name=inventory_dt&column_name=drain_area_va&column_name=contrib_drain_area_va&column_name=tz_cd&column_name=local_time_fg&column_name=reliability_cd&column_name=project_no&column_name=rt_bol&column_name=peak_begin_date&column_name=peak_end_date&column_name=peak_count_nu&column_name=qw_begin_date&column_name=qw_end_date&column_name=qw_count_nu&column_name=sv_begin_date&column_name=sv_end_date&column_name=sv_count_nu&range_selection=days&period=365&begin_date=1880-01-01&end_date=2023-04-04&date_format=YYYY-MM-DD&rdb_compression=file&list_of_search_criteria=lat_long_bounding_box\n",
      "reading data with pandas...\n",
      "finished in 2.41s\n",
      "\n",
      "culling 1 sites to those within extent...\n",
      "finished inventory in 2.42s\n",
      "\n"
     ]
    }
   ],
   "source": [
    "dv_sites = nwis.get_siteinfo('daily_values')"
   ]
  },
  {
   "cell_type": "markdown",
   "metadata": {},
   "source": [
    "### write shapefiles of the inventory tables\n",
    "* `shapely Points` were created from the lat/lon coordinates when the tables were assembled; these are used to write the feature geometries for the shapefiles"
   ]
  },
  {
   "cell_type": "code",
   "execution_count": 6,
   "metadata": {},
   "outputs": [
    {
     "name": "stdout",
     "output_type": "stream",
     "text": [
      "writing dv_sites.shp... Done\n",
      "writing misc_sites.shp... Done\n"
     ]
    },
    {
     "name": "stderr",
     "output_type": "stream",
     "text": [
      "/Users/aleaf/mambaforge/envs/gis/lib/python3.10/site-packages/gisutils/shapefile.py:129: ShapelyDeprecationWarning: The 'type' attribute is deprecated, and will be removed in the future. You can use the 'geom_type' attribute instead.\n",
      "  Type = g.type\n",
      "/Users/aleaf/mambaforge/envs/gis/lib/python3.10/site-packages/gisutils/shapefile.py:129: ShapelyDeprecationWarning: The 'type' attribute is deprecated, and will be removed in the future. You can use the 'geom_type' attribute instead.\n",
      "  Type = g.type\n"
     ]
    }
   ],
   "source": [
    "df2shp(dv_sites, 'dv_sites.shp', epsg=4269)\n",
    "df2shp(field_sites, 'misc_sites.shp', epsg=4269)"
   ]
  },
  {
   "cell_type": "markdown",
   "metadata": {},
   "source": [
    "### get daily values for a list of sites"
   ]
  },
  {
   "cell_type": "code",
   "execution_count": 7,
   "metadata": {},
   "outputs": [
    {
     "data": {
      "text/plain": [
       "['04021520']"
      ]
     },
     "execution_count": 7,
     "metadata": {},
     "output_type": "execute_result"
    }
   ],
   "source": [
    "sites = dv_sites.site_no.tolist()[0:2]\n",
    "sites"
   ]
  },
  {
   "cell_type": "code",
   "execution_count": 8,
   "metadata": {},
   "outputs": [
    {
     "name": "stdout",
     "output_type": "stream",
     "text": [
      "http://waterservices.usgs.gov/nwis/dv/?format=rdb&sites=04021520&startDT=1990-01-01&parameterCd=00060\n"
     ]
    },
    {
     "data": {
      "text/plain": [
       "dict_keys(['04021520'])"
      ]
     },
     "execution_count": 8,
     "metadata": {},
     "output_type": "execute_result"
    }
   ],
   "source": [
    "dvs = nwis.get_all_dvs(sites, start_date='1990-01-01')\n",
    "dvs.keys()"
   ]
  },
  {
   "cell_type": "code",
   "execution_count": 9,
   "metadata": {},
   "outputs": [
    {
     "data": {
      "text/html": [
       "<div>\n",
       "<style scoped>\n",
       "    .dataframe tbody tr th:only-of-type {\n",
       "        vertical-align: middle;\n",
       "    }\n",
       "\n",
       "    .dataframe tbody tr th {\n",
       "        vertical-align: top;\n",
       "    }\n",
       "\n",
       "    .dataframe thead th {\n",
       "        text-align: right;\n",
       "    }\n",
       "</style>\n",
       "<table border=\"1\" class=\"dataframe\">\n",
       "  <thead>\n",
       "    <tr style=\"text-align: right;\">\n",
       "      <th></th>\n",
       "      <th>agency_cd</th>\n",
       "      <th>site_no</th>\n",
       "      <th>datetime</th>\n",
       "      <th>72604_00060_00003</th>\n",
       "      <th>72604_00060_00003_cd</th>\n",
       "    </tr>\n",
       "    <tr>\n",
       "      <th>datetime</th>\n",
       "      <th></th>\n",
       "      <th></th>\n",
       "      <th></th>\n",
       "      <th></th>\n",
       "      <th></th>\n",
       "    </tr>\n",
       "  </thead>\n",
       "  <tbody>\n",
       "    <tr>\n",
       "      <th>2005-05-26</th>\n",
       "      <td>USGS</td>\n",
       "      <td>04021520</td>\n",
       "      <td>2005-05-26</td>\n",
       "      <td>199</td>\n",
       "      <td>A</td>\n",
       "    </tr>\n",
       "    <tr>\n",
       "      <th>2005-05-27</th>\n",
       "      <td>USGS</td>\n",
       "      <td>04021520</td>\n",
       "      <td>2005-05-27</td>\n",
       "      <td>200</td>\n",
       "      <td>A:e</td>\n",
       "    </tr>\n",
       "    <tr>\n",
       "      <th>2005-05-28</th>\n",
       "      <td>USGS</td>\n",
       "      <td>04021520</td>\n",
       "      <td>2005-05-28</td>\n",
       "      <td>200</td>\n",
       "      <td>A</td>\n",
       "    </tr>\n",
       "    <tr>\n",
       "      <th>2005-05-29</th>\n",
       "      <td>USGS</td>\n",
       "      <td>04021520</td>\n",
       "      <td>2005-05-29</td>\n",
       "      <td>187</td>\n",
       "      <td>A</td>\n",
       "    </tr>\n",
       "    <tr>\n",
       "      <th>2005-05-30</th>\n",
       "      <td>USGS</td>\n",
       "      <td>04021520</td>\n",
       "      <td>2005-05-30</td>\n",
       "      <td>169</td>\n",
       "      <td>A</td>\n",
       "    </tr>\n",
       "  </tbody>\n",
       "</table>\n",
       "</div>"
      ],
      "text/plain": [
       "           agency_cd   site_no    datetime 72604_00060_00003  \\\n",
       "datetime                                                       \n",
       "2005-05-26      USGS  04021520  2005-05-26               199   \n",
       "2005-05-27      USGS  04021520  2005-05-27               200   \n",
       "2005-05-28      USGS  04021520  2005-05-28               200   \n",
       "2005-05-29      USGS  04021520  2005-05-29               187   \n",
       "2005-05-30      USGS  04021520  2005-05-30               169   \n",
       "\n",
       "           72604_00060_00003_cd  \n",
       "datetime                         \n",
       "2005-05-26                    A  \n",
       "2005-05-27                  A:e  \n",
       "2005-05-28                    A  \n",
       "2005-05-29                    A  \n",
       "2005-05-30                    A  "
      ]
     },
     "execution_count": 9,
     "metadata": {},
     "output_type": "execute_result"
    }
   ],
   "source": [
    "dvs['04021520'].head()"
   ]
  },
  {
   "cell_type": "code",
   "execution_count": 10,
   "metadata": {},
   "outputs": [
    {
     "data": {
      "image/png": "[encoded data removed]",
      "text/plain": [
       "<Figure size 640x480 with 1 Axes>"
      ]
     },
     "metadata": {},
     "output_type": "display_data"
    }
   ],
   "source": [
    "dvs['04021520']['Q'] = pd.to_numeric(dvs['04021520']['72604_00060_00003'], errors='coerce')\n",
    "ax = dvs['04021520']['Q'].plot()"
   ]
  },
  {
   "cell_type": "markdown",
   "metadata": {},
   "source": [
    "### get a single site"
   ]
  },
  {
   "cell_type": "code",
   "execution_count": 11,
   "metadata": {},
   "outputs": [
    {
     "name": "stdout",
     "output_type": "stream",
     "text": [
      "http://waterservices.usgs.gov/nwis/dv/?format=rdb&sites=04015475&startDT=1880-01-01&parameterCd=00060\n"
     ]
    },
    {
     "data": {
      "text/html": [
       "<div>\n",
       "<style scoped>\n",
       "    .dataframe tbody tr th:only-of-type {\n",
       "        vertical-align: middle;\n",
       "    }\n",
       "\n",
       "    .dataframe tbody tr th {\n",
       "        vertical-align: top;\n",
       "    }\n",
       "\n",
       "    .dataframe thead th {\n",
       "        text-align: right;\n",
       "    }\n",
       "</style>\n",
       "<table border=\"1\" class=\"dataframe\">\n",
       "  <thead>\n",
       "    <tr style=\"text-align: right;\">\n",
       "      <th></th>\n",
       "      <th>agency_cd</th>\n",
       "      <th>site_no</th>\n",
       "      <th>datetime</th>\n",
       "      <th>72578_00060_00003</th>\n",
       "      <th>72578_00060_00003_cd</th>\n",
       "    </tr>\n",
       "    <tr>\n",
       "      <th>datetime</th>\n",
       "      <th></th>\n",
       "      <th></th>\n",
       "      <th></th>\n",
       "      <th></th>\n",
       "      <th></th>\n",
       "    </tr>\n",
       "  </thead>\n",
       "  <tbody>\n",
       "    <tr>\n",
       "      <th>1978-09-19</th>\n",
       "      <td>USGS</td>\n",
       "      <td>04015475</td>\n",
       "      <td>1978-09-19</td>\n",
       "      <td>143.0</td>\n",
       "      <td>A</td>\n",
       "    </tr>\n",
       "    <tr>\n",
       "      <th>1978-09-20</th>\n",
       "      <td>USGS</td>\n",
       "      <td>04015475</td>\n",
       "      <td>1978-09-20</td>\n",
       "      <td>125.0</td>\n",
       "      <td>A</td>\n",
       "    </tr>\n",
       "    <tr>\n",
       "      <th>1978-09-21</th>\n",
       "      <td>USGS</td>\n",
       "      <td>04015475</td>\n",
       "      <td>1978-09-21</td>\n",
       "      <td>100.0</td>\n",
       "      <td>A</td>\n",
       "    </tr>\n",
       "    <tr>\n",
       "      <th>1978-09-22</th>\n",
       "      <td>USGS</td>\n",
       "      <td>04015475</td>\n",
       "      <td>1978-09-22</td>\n",
       "      <td>80.0</td>\n",
       "      <td>A</td>\n",
       "    </tr>\n",
       "    <tr>\n",
       "      <th>1978-09-23</th>\n",
       "      <td>USGS</td>\n",
       "      <td>04015475</td>\n",
       "      <td>1978-09-23</td>\n",
       "      <td>83.0</td>\n",
       "      <td>A</td>\n",
       "    </tr>\n",
       "  </tbody>\n",
       "</table>\n",
       "</div>"
      ],
      "text/plain": [
       "           agency_cd   site_no    datetime  72578_00060_00003  \\\n",
       "datetime                                                        \n",
       "1978-09-19      USGS  04015475  1978-09-19              143.0   \n",
       "1978-09-20      USGS  04015475  1978-09-20              125.0   \n",
       "1978-09-21      USGS  04015475  1978-09-21              100.0   \n",
       "1978-09-22      USGS  04015475  1978-09-22               80.0   \n",
       "1978-09-23      USGS  04015475  1978-09-23               83.0   \n",
       "\n",
       "           72578_00060_00003_cd  \n",
       "datetime                         \n",
       "1978-09-19                    A  \n",
       "1978-09-20                    A  \n",
       "1978-09-21                    A  \n",
       "1978-09-22                    A  \n",
       "1978-09-23                    A  "
      ]
     },
     "execution_count": 11,
     "metadata": {},
     "output_type": "execute_result"
    }
   ],
   "source": [
    "df = nwis.get_dvs('04015475')\n",
    "df.head()"
   ]
  },
  {
   "cell_type": "markdown",
   "metadata": {},
   "source": [
    "### just get the url for dvs for a site\n",
    "(`start_date` is 1880-01-01 by default; `end_date` is `None` by default)"
   ]
  },
  {
   "cell_type": "code",
   "execution_count": 12,
   "metadata": {},
   "outputs": [
    {
     "name": "stdout",
     "output_type": "stream",
     "text": [
      "http://waterservices.usgs.gov/nwis/dv/?format=rdb&sites=04015475&startDT=1880-01-01&parameterCd=00060\n"
     ]
    },
    {
     "data": {
      "text/plain": [
       "'http://waterservices.usgs.gov/nwis/dv/?format=rdb&sites=04015475&startDT=1880-01-01&parameterCd=00060'"
      ]
     },
     "execution_count": 12,
     "metadata": {},
     "output_type": "execute_result"
    }
   ],
   "source": [
    "url = nwis.make_dv_url('04015475')\n",
    "url"
   ]
  },
  {
   "cell_type": "markdown",
   "metadata": {},
   "source": [
    "## Fetch some miscellaneous measurements"
   ]
  },
  {
   "cell_type": "code",
   "execution_count": 13,
   "metadata": {},
   "outputs": [
    {
     "data": {
      "text/plain": [
       "['04021520']"
      ]
     },
     "execution_count": 13,
     "metadata": {},
     "output_type": "execute_result"
    }
   ],
   "source": [
    "sites = field_sites.site_no.tolist()[:5]\n",
    "sites"
   ]
  },
  {
   "cell_type": "code",
   "execution_count": 14,
   "metadata": {},
   "outputs": [
    {
     "name": "stdout",
     "output_type": "stream",
     "text": [
      "04021520\n",
      "http://nwis.waterdata.usgs.gov/nwis/measurements?site_no=04021520&agency_cd=USGS&format=rdb\n"
     ]
    },
    {
     "name": "stderr",
     "output_type": "stream",
     "text": [
      "/Users/aleaf/Documents/GitHub/pydrograph/pydrograph/nwis.py:609: FutureWarning: In a future version, object-dtype columns with all-bool values will not be included in reductions with bool_only=True. Explicitly cast to bool dtype instead.\n",
      "  self.log = pd.concat([self.log,\n"
     ]
    }
   ],
   "source": [
    "fm = nwis.get_all_measurements(sites)"
   ]
  },
  {
   "cell_type": "code",
   "execution_count": 15,
   "metadata": {},
   "outputs": [
    {
     "data": {
      "text/html": [
       "<div>\n",
       "<style scoped>\n",
       "    .dataframe tbody tr th:only-of-type {\n",
       "        vertical-align: middle;\n",
       "    }\n",
       "\n",
       "    .dataframe tbody tr th {\n",
       "        vertical-align: top;\n",
       "    }\n",
       "\n",
       "    .dataframe thead th {\n",
       "        text-align: right;\n",
       "    }\n",
       "</style>\n",
       "<table border=\"1\" class=\"dataframe\">\n",
       "  <thead>\n",
       "    <tr style=\"text-align: right;\">\n",
       "      <th></th>\n",
       "      <th></th>\n",
       "      <th>agency_cd</th>\n",
       "      <th>site_no</th>\n",
       "      <th>measurement_nu</th>\n",
       "      <th>measurement_dt</th>\n",
       "      <th>tz_cd</th>\n",
       "      <th>q_meas_used_fg</th>\n",
       "      <th>party_nm</th>\n",
       "      <th>site_visit_coll_agency_cd</th>\n",
       "      <th>gage_height_va</th>\n",
       "      <th>discharge_va</th>\n",
       "      <th>measured_rating_diff</th>\n",
       "      <th>gage_va_change</th>\n",
       "      <th>gage_va_time</th>\n",
       "      <th>control_type_cd</th>\n",
       "      <th>discharge_cd</th>\n",
       "    </tr>\n",
       "    <tr>\n",
       "      <th>site_no</th>\n",
       "      <th>datetime</th>\n",
       "      <th></th>\n",
       "      <th></th>\n",
       "      <th></th>\n",
       "      <th></th>\n",
       "      <th></th>\n",
       "      <th></th>\n",
       "      <th></th>\n",
       "      <th></th>\n",
       "      <th></th>\n",
       "      <th></th>\n",
       "      <th></th>\n",
       "      <th></th>\n",
       "      <th></th>\n",
       "      <th></th>\n",
       "      <th></th>\n",
       "    </tr>\n",
       "  </thead>\n",
       "  <tbody>\n",
       "    <tr>\n",
       "      <th rowspan=\"5\" valign=\"top\">04021520</th>\n",
       "      <th>2005-04-27 12:11:00</th>\n",
       "      <td>USGS</td>\n",
       "      <td>04021520</td>\n",
       "      <td>1</td>\n",
       "      <td>2005-04-27 12:11:00</td>\n",
       "      <td>CDT</td>\n",
       "      <td>Yes</td>\n",
       "      <td>KGG/GRM</td>\n",
       "      <td>USGS</td>\n",
       "      <td>4.19</td>\n",
       "      <td>129.00</td>\n",
       "      <td>Good</td>\n",
       "      <td>0.00</td>\n",
       "      <td>1.1</td>\n",
       "      <td>Clear</td>\n",
       "      <td>NONE</td>\n",
       "    </tr>\n",
       "    <tr>\n",
       "      <th>2005-05-23 12:20:00</th>\n",
       "      <td>USGS</td>\n",
       "      <td>04021520</td>\n",
       "      <td>2</td>\n",
       "      <td>2005-05-23 12:20:00</td>\n",
       "      <td>CDT</td>\n",
       "      <td>Yes</td>\n",
       "      <td>GRM/WWL</td>\n",
       "      <td>USGS</td>\n",
       "      <td>4.22</td>\n",
       "      <td>135.00</td>\n",
       "      <td>Good</td>\n",
       "      <td>-0.01</td>\n",
       "      <td>0.9</td>\n",
       "      <td>Clear</td>\n",
       "      <td>NONE</td>\n",
       "    </tr>\n",
       "    <tr>\n",
       "      <th>2005-05-26 14:51:00</th>\n",
       "      <td>USGS</td>\n",
       "      <td>04021520</td>\n",
       "      <td>3</td>\n",
       "      <td>2005-05-26 14:51:00</td>\n",
       "      <td>CDT</td>\n",
       "      <td>Yes</td>\n",
       "      <td>DLR/GRM</td>\n",
       "      <td>USGS</td>\n",
       "      <td>5.01</td>\n",
       "      <td>199.00</td>\n",
       "      <td>Good</td>\n",
       "      <td>0.02</td>\n",
       "      <td>1.1</td>\n",
       "      <td>Clear</td>\n",
       "      <td>NONE</td>\n",
       "    </tr>\n",
       "    <tr>\n",
       "      <th>2005-06-07 14:45:00</th>\n",
       "      <td>USGS</td>\n",
       "      <td>04021520</td>\n",
       "      <td>4</td>\n",
       "      <td>2005-06-07 14:45:00</td>\n",
       "      <td>CDT</td>\n",
       "      <td>Yes</td>\n",
       "      <td>DLR</td>\n",
       "      <td>USGS</td>\n",
       "      <td>3.91</td>\n",
       "      <td>113.00</td>\n",
       "      <td>Good</td>\n",
       "      <td>0.00</td>\n",
       "      <td>0.7</td>\n",
       "      <td>Clear</td>\n",
       "      <td>NONE</td>\n",
       "    </tr>\n",
       "    <tr>\n",
       "      <th>2005-07-22 12:50:00</th>\n",
       "      <td>USGS</td>\n",
       "      <td>04021520</td>\n",
       "      <td>5</td>\n",
       "      <td>2005-07-22 12:50:00</td>\n",
       "      <td>CDT</td>\n",
       "      <td>Yes</td>\n",
       "      <td>GRM</td>\n",
       "      <td>USGS</td>\n",
       "      <td>1.61</td>\n",
       "      <td>5.82</td>\n",
       "      <td>Fair</td>\n",
       "      <td>0.00</td>\n",
       "      <td>0.5</td>\n",
       "      <td>Clear</td>\n",
       "      <td>NONE</td>\n",
       "    </tr>\n",
       "  </tbody>\n",
       "</table>\n",
       "</div>"
      ],
      "text/plain": [
       "                             agency_cd   site_no  measurement_nu  \\\n",
       "site_no  datetime                                                  \n",
       "04021520 2005-04-27 12:11:00      USGS  04021520               1   \n",
       "         2005-05-23 12:20:00      USGS  04021520               2   \n",
       "         2005-05-26 14:51:00      USGS  04021520               3   \n",
       "         2005-06-07 14:45:00      USGS  04021520               4   \n",
       "         2005-07-22 12:50:00      USGS  04021520               5   \n",
       "\n",
       "                                  measurement_dt tz_cd q_meas_used_fg  \\\n",
       "site_no  datetime                                                       \n",
       "04021520 2005-04-27 12:11:00 2005-04-27 12:11:00   CDT            Yes   \n",
       "         2005-05-23 12:20:00 2005-05-23 12:20:00   CDT            Yes   \n",
       "         2005-05-26 14:51:00 2005-05-26 14:51:00   CDT            Yes   \n",
       "         2005-06-07 14:45:00 2005-06-07 14:45:00   CDT            Yes   \n",
       "         2005-07-22 12:50:00 2005-07-22 12:50:00   CDT            Yes   \n",
       "\n",
       "                             party_nm site_visit_coll_agency_cd  \\\n",
       "site_no  datetime                                                 \n",
       "04021520 2005-04-27 12:11:00  KGG/GRM                      USGS   \n",
       "         2005-05-23 12:20:00  GRM/WWL                      USGS   \n",
       "         2005-05-26 14:51:00  DLR/GRM                      USGS   \n",
       "         2005-06-07 14:45:00      DLR                      USGS   \n",
       "         2005-07-22 12:50:00      GRM                      USGS   \n",
       "\n",
       "                              gage_height_va  discharge_va  \\\n",
       "site_no  datetime                                            \n",
       "04021520 2005-04-27 12:11:00            4.19        129.00   \n",
       "         2005-05-23 12:20:00            4.22        135.00   \n",
       "         2005-05-26 14:51:00            5.01        199.00   \n",
       "         2005-06-07 14:45:00            3.91        113.00   \n",
       "         2005-07-22 12:50:00            1.61          5.82   \n",
       "\n",
       "                             measured_rating_diff  gage_va_change  \\\n",
       "site_no  datetime                                                   \n",
       "04021520 2005-04-27 12:11:00                 Good            0.00   \n",
       "         2005-05-23 12:20:00                 Good           -0.01   \n",
       "         2005-05-26 14:51:00                 Good            0.02   \n",
       "         2005-06-07 14:45:00                 Good            0.00   \n",
       "         2005-07-22 12:50:00                 Fair            0.00   \n",
       "\n",
       "                              gage_va_time control_type_cd discharge_cd  \n",
       "site_no  datetime                                                        \n",
       "04021520 2005-04-27 12:11:00           1.1           Clear         NONE  \n",
       "         2005-05-23 12:20:00           0.9           Clear         NONE  \n",
       "         2005-05-26 14:51:00           1.1           Clear         NONE  \n",
       "         2005-06-07 14:45:00           0.7           Clear         NONE  \n",
       "         2005-07-22 12:50:00           0.5           Clear         NONE  "
      ]
     },
     "execution_count": 15,
     "metadata": {},
     "output_type": "execute_result"
    }
   ],
   "source": [
    "fm.head()"
   ]
  },
  {
   "cell_type": "code",
   "execution_count": 16,
   "metadata": {},
   "outputs": [
    {
     "data": {
      "text/plain": [
       "<AxesSubplot: xlabel='datetime'>"
      ]
     },
     "execution_count": 16,
     "metadata": {},
     "output_type": "execute_result"
    },
    {
     "data": {
      "image/png": "[encoded data removed]",
      "text/plain": [
       "<Figure size 640x480 with 1 Axes>"
      ]
     },
     "metadata": {},
     "output_type": "display_data"
    }
   ],
   "source": [
    "ax = fm.loc['04021520', 'discharge_va'].plot(lw=0, marker='o', color='r')\n",
    "dvs['04021520']['Q'].plot(ax=ax)"
   ]
  },
  {
   "attachments": {},
   "cell_type": "markdown",
   "metadata": {},
   "source": [
    "### Get field measurements with channel data"
   ]
  },
  {
   "cell_type": "code",
   "execution_count": 17,
   "metadata": {},
   "outputs": [
    {
     "name": "stdout",
     "output_type": "stream",
     "text": [
      "04021520\n",
      "http://nwis.waterdata.usgs.gov/nwis/measurements?site_no=04021520&agency_cd=USGS&format=rdb_expanded\n"
     ]
    },
    {
     "name": "stderr",
     "output_type": "stream",
     "text": [
      "/Users/aleaf/Documents/GitHub/pydrograph/pydrograph/nwis.py:609: FutureWarning: In a future version, object-dtype columns with all-bool values will not be included in reductions with bool_only=True. Explicitly cast to bool dtype instead.\n",
      "  self.log = pd.concat([self.log,\n"
     ]
    },
    {
     "data": {
      "text/html": [
       "<div>\n",
       "<style scoped>\n",
       "    .dataframe tbody tr th:only-of-type {\n",
       "        vertical-align: middle;\n",
       "    }\n",
       "\n",
       "    .dataframe tbody tr th {\n",
       "        vertical-align: top;\n",
       "    }\n",
       "\n",
       "    .dataframe thead th {\n",
       "        text-align: right;\n",
       "    }\n",
       "</style>\n",
       "<table border=\"1\" class=\"dataframe\">\n",
       "  <thead>\n",
       "    <tr style=\"text-align: right;\">\n",
       "      <th></th>\n",
       "      <th></th>\n",
       "      <th>agency_cd</th>\n",
       "      <th>site_no</th>\n",
       "      <th>measurement_nu</th>\n",
       "      <th>measurement_dt</th>\n",
       "      <th>tz_cd</th>\n",
       "      <th>q_meas_used_fg</th>\n",
       "      <th>party_nm</th>\n",
       "      <th>site_visit_coll_agency_cd</th>\n",
       "      <th>gage_height_va</th>\n",
       "      <th>discharge_va</th>\n",
       "      <th>...</th>\n",
       "      <th>chan_area</th>\n",
       "      <th>chan_velocity</th>\n",
       "      <th>chan_stability</th>\n",
       "      <th>chan_material</th>\n",
       "      <th>chan_evenness</th>\n",
       "      <th>long_vel_desc</th>\n",
       "      <th>horz_vel_desc</th>\n",
       "      <th>vert_vel_desc</th>\n",
       "      <th>chan_loc_cd</th>\n",
       "      <th>chan_loc_dist</th>\n",
       "    </tr>\n",
       "    <tr>\n",
       "      <th>site_no</th>\n",
       "      <th>datetime</th>\n",
       "      <th></th>\n",
       "      <th></th>\n",
       "      <th></th>\n",
       "      <th></th>\n",
       "      <th></th>\n",
       "      <th></th>\n",
       "      <th></th>\n",
       "      <th></th>\n",
       "      <th></th>\n",
       "      <th></th>\n",
       "      <th></th>\n",
       "      <th></th>\n",
       "      <th></th>\n",
       "      <th></th>\n",
       "      <th></th>\n",
       "      <th></th>\n",
       "      <th></th>\n",
       "      <th></th>\n",
       "      <th></th>\n",
       "      <th></th>\n",
       "      <th></th>\n",
       "    </tr>\n",
       "  </thead>\n",
       "  <tbody>\n",
       "    <tr>\n",
       "      <th rowspan=\"5\" valign=\"top\">04021520</th>\n",
       "      <th>2005-04-27 12:11:00</th>\n",
       "      <td>USGS</td>\n",
       "      <td>04021520</td>\n",
       "      <td>1</td>\n",
       "      <td>2005-04-27 12:11:00</td>\n",
       "      <td>CDT</td>\n",
       "      <td>Yes</td>\n",
       "      <td>KGG/GRM</td>\n",
       "      <td>USGS</td>\n",
       "      <td>4.19</td>\n",
       "      <td>129.00</td>\n",
       "      <td>...</td>\n",
       "      <td>97.7</td>\n",
       "      <td>1.32</td>\n",
       "      <td>UNSP</td>\n",
       "      <td>UNSP</td>\n",
       "      <td>UNSP</td>\n",
       "      <td>unkn</td>\n",
       "      <td>UNSP</td>\n",
       "      <td>UNSP</td>\n",
       "      <td>UNSP</td>\n",
       "      <td>NaN</td>\n",
       "    </tr>\n",
       "    <tr>\n",
       "      <th>2005-05-23 12:20:00</th>\n",
       "      <td>USGS</td>\n",
       "      <td>04021520</td>\n",
       "      <td>2</td>\n",
       "      <td>2005-05-23 12:20:00</td>\n",
       "      <td>CDT</td>\n",
       "      <td>Yes</td>\n",
       "      <td>GRM/WWL</td>\n",
       "      <td>USGS</td>\n",
       "      <td>4.22</td>\n",
       "      <td>135.00</td>\n",
       "      <td>...</td>\n",
       "      <td>103.0</td>\n",
       "      <td>1.31</td>\n",
       "      <td>UNSP</td>\n",
       "      <td>UNSP</td>\n",
       "      <td>UNSP</td>\n",
       "      <td>unkn</td>\n",
       "      <td>UNSP</td>\n",
       "      <td>UNSP</td>\n",
       "      <td>UNSP</td>\n",
       "      <td>NaN</td>\n",
       "    </tr>\n",
       "    <tr>\n",
       "      <th>2005-05-26 14:51:00</th>\n",
       "      <td>USGS</td>\n",
       "      <td>04021520</td>\n",
       "      <td>3</td>\n",
       "      <td>2005-05-26 14:51:00</td>\n",
       "      <td>CDT</td>\n",
       "      <td>Yes</td>\n",
       "      <td>DLR/GRM</td>\n",
       "      <td>USGS</td>\n",
       "      <td>5.01</td>\n",
       "      <td>199.00</td>\n",
       "      <td>...</td>\n",
       "      <td>125.0</td>\n",
       "      <td>1.59</td>\n",
       "      <td>UNSP</td>\n",
       "      <td>UNSP</td>\n",
       "      <td>UNSP</td>\n",
       "      <td>unkn</td>\n",
       "      <td>UNSP</td>\n",
       "      <td>UNSP</td>\n",
       "      <td>UNSP</td>\n",
       "      <td>NaN</td>\n",
       "    </tr>\n",
       "    <tr>\n",
       "      <th>2005-06-07 14:45:00</th>\n",
       "      <td>USGS</td>\n",
       "      <td>04021520</td>\n",
       "      <td>4</td>\n",
       "      <td>2005-06-07 14:45:00</td>\n",
       "      <td>CDT</td>\n",
       "      <td>Yes</td>\n",
       "      <td>DLR</td>\n",
       "      <td>USGS</td>\n",
       "      <td>3.91</td>\n",
       "      <td>113.00</td>\n",
       "      <td>...</td>\n",
       "      <td>92.3</td>\n",
       "      <td>1.23</td>\n",
       "      <td>UNSP</td>\n",
       "      <td>UNSP</td>\n",
       "      <td>UNSP</td>\n",
       "      <td>unkn</td>\n",
       "      <td>UNSP</td>\n",
       "      <td>UNSP</td>\n",
       "      <td>UNSP</td>\n",
       "      <td>NaN</td>\n",
       "    </tr>\n",
       "    <tr>\n",
       "      <th>2005-07-22 12:50:00</th>\n",
       "      <td>USGS</td>\n",
       "      <td>04021520</td>\n",
       "      <td>5</td>\n",
       "      <td>2005-07-22 12:50:00</td>\n",
       "      <td>CDT</td>\n",
       "      <td>Yes</td>\n",
       "      <td>GRM</td>\n",
       "      <td>USGS</td>\n",
       "      <td>1.61</td>\n",
       "      <td>5.82</td>\n",
       "      <td>...</td>\n",
       "      <td>15.5</td>\n",
       "      <td>0.38</td>\n",
       "      <td>UNSP</td>\n",
       "      <td>UNSP</td>\n",
       "      <td>UNSP</td>\n",
       "      <td>unkn</td>\n",
       "      <td>UNSP</td>\n",
       "      <td>UNSP</td>\n",
       "      <td>UNSP</td>\n",
       "      <td>NaN</td>\n",
       "    </tr>\n",
       "  </tbody>\n",
       "</table>\n",
       "<p>5 rows × 32 columns</p>\n",
       "</div>"
      ],
      "text/plain": [
       "                             agency_cd   site_no  measurement_nu  \\\n",
       "site_no  datetime                                                  \n",
       "04021520 2005-04-27 12:11:00      USGS  04021520               1   \n",
       "         2005-05-23 12:20:00      USGS  04021520               2   \n",
       "         2005-05-26 14:51:00      USGS  04021520               3   \n",
       "         2005-06-07 14:45:00      USGS  04021520               4   \n",
       "         2005-07-22 12:50:00      USGS  04021520               5   \n",
       "\n",
       "                                  measurement_dt tz_cd q_meas_used_fg  \\\n",
       "site_no  datetime                                                       \n",
       "04021520 2005-04-27 12:11:00 2005-04-27 12:11:00   CDT            Yes   \n",
       "         2005-05-23 12:20:00 2005-05-23 12:20:00   CDT            Yes   \n",
       "         2005-05-26 14:51:00 2005-05-26 14:51:00   CDT            Yes   \n",
       "         2005-06-07 14:45:00 2005-06-07 14:45:00   CDT            Yes   \n",
       "         2005-07-22 12:50:00 2005-07-22 12:50:00   CDT            Yes   \n",
       "\n",
       "                             party_nm site_visit_coll_agency_cd  \\\n",
       "site_no  datetime                                                 \n",
       "04021520 2005-04-27 12:11:00  KGG/GRM                      USGS   \n",
       "         2005-05-23 12:20:00  GRM/WWL                      USGS   \n",
       "         2005-05-26 14:51:00  DLR/GRM                      USGS   \n",
       "         2005-06-07 14:45:00      DLR                      USGS   \n",
       "         2005-07-22 12:50:00      GRM                      USGS   \n",
       "\n",
       "                              gage_height_va  discharge_va  ... chan_area  \\\n",
       "site_no  datetime                                           ...             \n",
       "04021520 2005-04-27 12:11:00            4.19        129.00  ...      97.7   \n",
       "         2005-05-23 12:20:00            4.22        135.00  ...     103.0   \n",
       "         2005-05-26 14:51:00            5.01        199.00  ...     125.0   \n",
       "         2005-06-07 14:45:00            3.91        113.00  ...      92.3   \n",
       "         2005-07-22 12:50:00            1.61          5.82  ...      15.5   \n",
       "\n",
       "                              chan_velocity  chan_stability chan_material  \\\n",
       "site_no  datetime                                                           \n",
       "04021520 2005-04-27 12:11:00           1.32            UNSP          UNSP   \n",
       "         2005-05-23 12:20:00           1.31            UNSP          UNSP   \n",
       "         2005-05-26 14:51:00           1.59            UNSP          UNSP   \n",
       "         2005-06-07 14:45:00           1.23            UNSP          UNSP   \n",
       "         2005-07-22 12:50:00           0.38            UNSP          UNSP   \n",
       "\n",
       "                             chan_evenness  long_vel_desc horz_vel_desc  \\\n",
       "site_no  datetime                                                         \n",
       "04021520 2005-04-27 12:11:00          UNSP           unkn          UNSP   \n",
       "         2005-05-23 12:20:00          UNSP           unkn          UNSP   \n",
       "         2005-05-26 14:51:00          UNSP           unkn          UNSP   \n",
       "         2005-06-07 14:45:00          UNSP           unkn          UNSP   \n",
       "         2005-07-22 12:50:00          UNSP           unkn          UNSP   \n",
       "\n",
       "                             vert_vel_desc chan_loc_cd chan_loc_dist  \n",
       "site_no  datetime                                                     \n",
       "04021520 2005-04-27 12:11:00          UNSP        UNSP           NaN  \n",
       "         2005-05-23 12:20:00          UNSP        UNSP           NaN  \n",
       "         2005-05-26 14:51:00          UNSP        UNSP           NaN  \n",
       "         2005-06-07 14:45:00          UNSP        UNSP           NaN  \n",
       "         2005-07-22 12:50:00          UNSP        UNSP           NaN  \n",
       "\n",
       "[5 rows x 32 columns]"
      ]
     },
     "execution_count": 17,
     "metadata": {},
     "output_type": "execute_result"
    }
   ],
   "source": [
    "fm = nwis.get_all_measurements(sites, data_format='rdb_expanded')\n",
    "fm.head()"
   ]
  },
  {
   "cell_type": "code",
   "execution_count": null,
   "metadata": {},
   "outputs": [],
   "source": []
  }
 ],
 "metadata": {
  "anaconda-cloud": {},
  "kernelspec": {
   "display_name": "gis",
   "language": "python",
   "name": "python3"
  },
  "language_info": {
   "codemirror_mode": {
    "name": "ipython",
    "version": 3
   },
   "file_extension": ".py",
   "mimetype": "text/x-python",
   "name": "python",
   "nbconvert_exporter": "python",
   "pygments_lexer": "ipython3",
   "version": "3.10.8"
  }
 },
 "nbformat": 4,
 "nbformat_minor": 1
}
